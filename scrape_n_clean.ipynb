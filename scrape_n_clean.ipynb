{
 "cells": [
  {
   "cell_type": "code",
   "execution_count": 1,
   "metadata": {},
   "outputs": [],
   "source": [
    "import pandas as pd\n",
    "from lxml import html\n"
   ]
  },
  {
   "cell_type": "code",
   "execution_count": 2,
   "metadata": {},
   "outputs": [],
   "source": [
    "tables = pd.read_html(\"http://www.usa.com/rank/california-state--median-household-income--zip-code-rank.htm?hl=&hlst=&wist=&yr=9000&dis=&sb=DESC&plow=&phigh=&ps=\")"
   ]
  },
  {
   "cell_type": "code",
   "execution_count": 3,
   "metadata": {},
   "outputs": [
    {
     "name": "stdout",
     "output_type": "stream",
     "text": [
      "[          0                          1                 2\n",
      "0      Rank  Median Household Income ▼  Zip / Population\n",
      "1        1.                   $236,912     94027 / 7,230\n",
      "2        2.                   $228,587     92145 / 1,968\n",
      "3        3.                   $200,325       91980 / 631\n",
      "4        4.                   $187,857     94957 / 1,063\n",
      "...     ...                        ...               ...\n",
      "1682  1682.                    $11,922     93721 / 6,308\n",
      "1683  1683.                    $11,250        93530 / 28\n",
      "1684  1684.                    $10,625     90089 / 3,326\n",
      "1685  1685.                    $10,481        95915 / 58\n",
      "1686  1686.                     $6,827       93669 / 284\n",
      "\n",
      "[1687 rows x 3 columns]]\n"
     ]
    }
   ],
   "source": [
    "print(tables)"
   ]
  },
  {
   "cell_type": "code",
   "execution_count": 68,
   "metadata": {},
   "outputs": [],
   "source": [
    "#transform html into a df with co names\n",
    "url = \"http://www.usa.com/rank/california-state--median-household-income--zip-code-rank.htm?hl=&hlst=&wist=&yr=9000&dis=&sb=DESC&plow=&phigh=&ps=\"\n",
    "dfs = pd.read_html(url)\n",
    "df = pd.concat(dfs)\n",
    "df.columns = ['rank', 'm_h_i_2014', 'zip']"
   ]
  },
  {
   "cell_type": "code",
   "execution_count": 69,
   "metadata": {},
   "outputs": [],
   "source": [
    "#drop the ramk columns\n",
    "df.drop('rank', axis=1, inplace = True)"
   ]
  },
  {
   "cell_type": "code",
   "execution_count": 70,
   "metadata": {},
   "outputs": [],
   "source": [
    "#format the zip, get. just the forst 5 numbers\n",
    "df['zip'] = [x[:-5] for x in df['zip'] if len(df['zip']) >= 11]"
   ]
  },
  {
   "cell_type": "code",
   "execution_count": 71,
   "metadata": {},
   "outputs": [
    {
     "data": {
      "text/plain": [
       "0       Zip / Popul\n",
       "1          94027 / \n",
       "2          92145 / \n",
       "3            91980 \n",
       "4          94957 / \n",
       "           ...     \n",
       "1682       93721 / \n",
       "1683          93530\n",
       "1684       90089 / \n",
       "1685          95915\n",
       "1686         93669 \n",
       "Name: zip, Length: 1687, dtype: object"
      ]
     },
     "execution_count": 71,
     "metadata": {},
     "output_type": "execute_result"
    }
   ],
   "source": [
    "df['zip']"
   ]
  },
  {
   "cell_type": "code",
   "execution_count": 72,
   "metadata": {},
   "outputs": [],
   "source": [
    "#drop the /\n",
    "df['zip'] = df['zip'].replace({'/':''}, regex=True)"
   ]
  },
  {
   "cell_type": "code",
   "execution_count": 73,
   "metadata": {},
   "outputs": [],
   "source": [
    "df['zip'] = [z[0:5] for z in df['zip']]     "
   ]
  },
  {
   "cell_type": "code",
   "execution_count": 75,
   "metadata": {},
   "outputs": [],
   "source": [
    "#drop the first row\n",
    "df = df.iloc[1:]"
   ]
  },
  {
   "cell_type": "code",
   "execution_count": 103,
   "metadata": {},
   "outputs": [],
   "source": [
    "#name the columns\n",
    "df.columns = ['Median_Household_Income_2014', 'Zip']"
   ]
  },
  {
   "cell_type": "code",
   "execution_count": 105,
   "metadata": {},
   "outputs": [],
   "source": [
    "df.to_csv('median_income_2014.csv')"
   ]
  },
  {
   "cell_type": "code",
   "execution_count": 7,
   "metadata": {},
   "outputs": [],
   "source": [
    "#white pop %\n",
    "url = \"http://www.usa.com/rank/california-state--median-rental-price--zip-code-rank.htm?yr=9000&dis=50&wist=&plow=&phigh= \"\n",
    "dfs = pd.read_html(url)\n",
    "df = pd.concat(dfs)"
   ]
  },
  {
   "cell_type": "code",
   "execution_count": 8,
   "metadata": {},
   "outputs": [],
   "source": [
    "df.columns = ['rank', 'Median_Rent_2014', 'zip']\n",
    "df.drop('rank', axis=1, inplace = True)"
   ]
  },
  {
   "cell_type": "code",
   "execution_count": 143,
   "metadata": {},
   "outputs": [],
   "source": [
    "df['zip'] = [x[:-4] for x in df['zip'] if len(df['zip']) >= 10]\n",
    "df['zip'] = df['zip'].replace({'/':''}, regex=True)\n",
    "df['zip'] = [z[0:5] for z in df['zip']]     \n",
    "df = df.iloc[1:]"
   ]
  },
  {
   "cell_type": "code",
   "execution_count": 144,
   "metadata": {},
   "outputs": [],
   "source": [
    "df.columns = ['White Population % in 2014', 'zip']"
   ]
  },
  {
   "cell_type": "code",
   "execution_count": 145,
   "metadata": {},
   "outputs": [],
   "source": [
    "df.to_csv('white_pop_2014.csv')"
   ]
  },
  {
   "cell_type": "code",
   "execution_count": 4,
   "metadata": {},
   "outputs": [],
   "source": [
    "def table_clean(df):\n",
    "    df['zip'] = [x[:-4] for x in df['zip'] if len(df['zip']) >= 10]\n",
    "    df['zip'] = df['zip'].replace({'/':''}, regex=True)\n",
    "    df['zip'] = [z[0:5] for z in df['zip']]     \n",
    "    df = df.iloc[1:]\n",
    "    return df"
   ]
  },
  {
   "cell_type": "code",
   "execution_count": 146,
   "metadata": {},
   "outputs": [],
   "source": [
    "url = 'http://www.usa.com/rank/california-state--white-population-percentage--zip-code-rank.htm?yr=1000&dis=50&wist=&plow=&phigh='\n",
    "dfs = pd.read_html(url)\n",
    "df = pd.concat(dfs)"
   ]
  },
  {
   "cell_type": "code",
   "execution_count": 147,
   "metadata": {},
   "outputs": [],
   "source": [
    "df.columns = ['rank', 'White Population % in 2000', 'zip']\n",
    "df.drop('rank', axis=1, inplace = True)\n"
   ]
  },
  {
   "cell_type": "code",
   "execution_count": 5,
   "metadata": {},
   "outputs": [],
   "source": [
    "df =table_clean(df)"
   ]
  },
  {
   "cell_type": "code",
   "execution_count": 6,
   "metadata": {},
   "outputs": [],
   "source": [
    "df.to_csv('median_rent_2000.csv')"
   ]
  },
  {
   "cell_type": "code",
   "execution_count": 150,
   "metadata": {},
   "outputs": [],
   "source": [
    "#total_population \n",
    "url='http://www.usa.com/rank/california-state--total-population--zip-code-rank.htm?yr=9000&dis=50&wist=&plow=&phigh='\n",
    "dfs = pd.read_html(url)\n",
    "df = pd.concat(dfs)"
   ]
  },
  {
   "cell_type": "code",
   "execution_count": 151,
   "metadata": {},
   "outputs": [],
   "source": [
    "df.columns = ['rank', 'Total Population % in 2014', 'zip']\n",
    "df.drop('rank', axis=1, inplace = True)"
   ]
  },
  {
   "cell_type": "code",
   "execution_count": 152,
   "metadata": {},
   "outputs": [],
   "source": [
    "df = table_clean(df)"
   ]
  },
  {
   "cell_type": "code",
   "execution_count": 153,
   "metadata": {},
   "outputs": [],
   "source": [
    "df.to_csv('total_pop_2014.csv')"
   ]
  },
  {
   "cell_type": "code",
   "execution_count": 157,
   "metadata": {},
   "outputs": [],
   "source": [
    "#create a fucntion that combines all the steps\n",
    "def total_func(url):\n",
    "    dfs = pd.read_html(url)\n",
    "    df = pd.concat(dfs)\n",
    "    df.columns = ['rank', 'Total Population in 2000', 'zip']\n",
    "    df.drop('rank', axis=1, inplace = True)\n",
    "    df['zip'] = [x[:-4] for x in df['zip'] if len(df['zip']) >= 10]\n",
    "    df['zip'] = df['zip'].replace({'/':''}, regex=True)\n",
    "    df['zip'] = [z[0:5] for z in df['zip']]     \n",
    "    df = df.iloc[1:]\n",
    "    return df"
   ]
  },
  {
   "cell_type": "code",
   "execution_count": 158,
   "metadata": {},
   "outputs": [
    {
     "data": {
      "text/html": [
       "<div>\n",
       "<style scoped>\n",
       "    .dataframe tbody tr th:only-of-type {\n",
       "        vertical-align: middle;\n",
       "    }\n",
       "\n",
       "    .dataframe tbody tr th {\n",
       "        vertical-align: top;\n",
       "    }\n",
       "\n",
       "    .dataframe thead th {\n",
       "        text-align: right;\n",
       "    }\n",
       "</style>\n",
       "<table border=\"1\" class=\"dataframe\">\n",
       "  <thead>\n",
       "    <tr style=\"text-align: right;\">\n",
       "      <th></th>\n",
       "      <th>Total Population in 2000</th>\n",
       "      <th>zip</th>\n",
       "    </tr>\n",
       "  </thead>\n",
       "  <tbody>\n",
       "    <tr>\n",
       "      <th>1</th>\n",
       "      <td>105275</td>\n",
       "      <td>90201</td>\n",
       "    </tr>\n",
       "    <tr>\n",
       "      <th>2</th>\n",
       "      <td>103211</td>\n",
       "      <td>90650</td>\n",
       "    </tr>\n",
       "    <tr>\n",
       "      <th>3</th>\n",
       "      <td>101214</td>\n",
       "      <td>90011</td>\n",
       "    </tr>\n",
       "    <tr>\n",
       "      <th>4</th>\n",
       "      <td>98226</td>\n",
       "      <td>92054</td>\n",
       "    </tr>\n",
       "    <tr>\n",
       "      <th>5</th>\n",
       "      <td>97300</td>\n",
       "      <td>91331</td>\n",
       "    </tr>\n",
       "    <tr>\n",
       "      <th>...</th>\n",
       "      <td>...</td>\n",
       "      <td>...</td>\n",
       "    </tr>\n",
       "    <tr>\n",
       "      <th>1666</th>\n",
       "      <td>6</td>\n",
       "      <td>90071</td>\n",
       "    </tr>\n",
       "    <tr>\n",
       "      <th>1667</th>\n",
       "      <td>4</td>\n",
       "      <td>95937</td>\n",
       "    </tr>\n",
       "    <tr>\n",
       "      <th>1668</th>\n",
       "      <td>3</td>\n",
       "      <td>91743</td>\n",
       "    </tr>\n",
       "    <tr>\n",
       "      <th>1669</th>\n",
       "      <td>2</td>\n",
       "      <td>90263</td>\n",
       "    </tr>\n",
       "    <tr>\n",
       "      <th>1670</th>\n",
       "      <td>2</td>\n",
       "      <td>95836</td>\n",
       "    </tr>\n",
       "  </tbody>\n",
       "</table>\n",
       "<p>1670 rows × 2 columns</p>\n",
       "</div>"
      ],
      "text/plain": [
       "     Total Population in 2000    zip\n",
       "1                      105275  90201\n",
       "2                      103211  90650\n",
       "3                      101214  90011\n",
       "4                       98226  92054\n",
       "5                       97300  91331\n",
       "...                       ...    ...\n",
       "1666                        6  90071\n",
       "1667                        4  95937\n",
       "1668                        3  91743\n",
       "1669                        2  90263\n",
       "1670                        2  95836\n",
       "\n",
       "[1670 rows x 2 columns]"
      ]
     },
     "execution_count": 158,
     "metadata": {},
     "output_type": "execute_result"
    }
   ],
   "source": [
    "total_func('http://www.usa.com/rank/california-state--total-population--zip-code-rank.htm?yr=1000&dis=50&wist=&plow=&phigh=')"
   ]
  },
  {
   "cell_type": "code",
   "execution_count": 159,
   "metadata": {},
   "outputs": [],
   "source": [
    "df.to_csv('total_pop_2000.csv')"
   ]
  },
  {
   "cell_type": "code",
   "execution_count": null,
   "metadata": {},
   "outputs": [],
   "source": []
  }
 ],
 "metadata": {
  "kernelspec": {
   "display_name": "PythonData",
   "language": "python",
   "name": "pythondata"
  },
  "language_info": {
   "codemirror_mode": {
    "name": "ipython",
    "version": 3
   },
   "file_extension": ".py",
   "mimetype": "text/x-python",
   "name": "python",
   "nbconvert_exporter": "python",
   "pygments_lexer": "ipython3",
   "version": "3.8.1"
  }
 },
 "nbformat": 4,
 "nbformat_minor": 4
}
