{
 "cells": [
  {
   "cell_type": "code",
   "execution_count": 4,
   "metadata": {},
   "outputs": [],
   "source": [
    "import pandas as pd\n",
    "from lxml import html\n"
   ]
  },
  {
   "cell_type": "code",
   "execution_count": 68,
   "metadata": {},
   "outputs": [],
   "source": [
    "#transform html into a df with co names\n",
    "url = \"http://www.usa.com/rank/california-state--median-household-income--zip-code-rank.htm?hl=&hlst=&wist=&yr=9000&dis=&sb=DESC&plow=&phigh=&ps=\"\n",
    "dfs = pd.read_html(url)\n",
    "df = pd.concat(dfs)\n",
    "df.columns = ['rank', 'm_h_i_2014', 'zip']"
   ]
  },
  {
   "cell_type": "code",
   "execution_count": 69,
   "metadata": {},
   "outputs": [],
   "source": [
    "#drop the ramk columns\n",
    "df.drop('rank', axis=1, inplace = True)"
   ]
  },
  {
   "cell_type": "code",
   "execution_count": 9,
   "metadata": {},
   "outputs": [],
   "source": [
    "#create a function that cleans and transforms the data \n",
    "def table_clean(df):\n",
    "    df['zip'] = [x[:-4] for x in df['zip'] if len(df['zip']) >= 10]\n",
    "    df['zip'] = df['zip'].replace({'/':''}, regex=True)\n",
    "    df['zip'] = [z[0:5] for z in df['zip']]     \n",
    "    df = df.iloc[1:]\n",
    "    return df"
   ]
  },
  {
   "cell_type": "code",
   "execution_count": 21,
   "metadata": {},
   "outputs": [],
   "source": [
    "url = 'http://www.usa.com/rank/california-state--average-education-index--zip-code-rank.htm?yr=9000&dis=50&wist=&plow=&phigh= '\n",
    "dfs = pd.read_html(url)\n",
    "df = pd.concat(dfs)"
   ]
  },
  {
   "cell_type": "code",
   "execution_count": 22,
   "metadata": {},
   "outputs": [],
   "source": [
    "df.columns = ['rank', 'Average Education Index 2014', 'zip']\n",
    "df.drop('rank', axis=1, inplace = True)\n"
   ]
  },
  {
   "cell_type": "code",
   "execution_count": 23,
   "metadata": {},
   "outputs": [],
   "source": [
    "df =table_clean(df)"
   ]
  },
  {
   "cell_type": "code",
   "execution_count": 24,
   "metadata": {},
   "outputs": [],
   "source": [
    "df.to_csv('avg_edu_index_2014.csv')"
   ]
  },
  {
   "cell_type": "code",
   "execution_count": null,
   "metadata": {},
   "outputs": [],
   "source": []
  }
 ],
 "metadata": {
  "kernelspec": {
   "display_name": "PythonData",
   "language": "python",
   "name": "pythondata"
  },
  "language_info": {
   "codemirror_mode": {
    "name": "ipython",
    "version": 3
   },
   "file_extension": ".py",
   "mimetype": "text/x-python",
   "name": "python",
   "nbconvert_exporter": "python",
   "pygments_lexer": "ipython3",
   "version": "3.8.1"
  }
 },
 "nbformat": 4,
 "nbformat_minor": 4
}
