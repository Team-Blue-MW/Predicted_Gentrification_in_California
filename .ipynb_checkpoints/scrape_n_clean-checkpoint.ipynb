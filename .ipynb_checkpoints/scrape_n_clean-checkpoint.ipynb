{
 "cells": [
  {
   "cell_type": "code",
   "execution_count": 3,
   "metadata": {},
   "outputs": [],
   "source": [
    "import pandas as pd\n",
    "from lxml import html\n"
   ]
  },
  {
   "cell_type": "code",
   "execution_count": 68,
   "metadata": {},
   "outputs": [],
   "source": [
    "#transform html into a df with co names\n",
    "url = \"\"\n",
    "dfs = pd.read_html(url)\n",
    "df = pd.concat(dfs)\n",
    "df.columns = [list_of column names ]"
   ]
  },
  {
   "cell_type": "code",
   "execution_count": 69,
   "metadata": {},
   "outputs": [],
   "source": [
    "#drop the ramk columns\n",
    "df.drop('rank', axis=1, inplace = True)"
   ]
  },
  {
   "cell_type": "code",
   "execution_count": 70,
   "metadata": {},
   "outputs": [],
   "source": [
    "#format the zip, get. just the forst 5 numbers\n",
    "df['zip'] = [x[:-5] for x in df['zip'] if len(df['zip']) >= 11]"
   ]
  },
  {
   "cell_type": "code",
   "execution_count": 72,
   "metadata": {},
   "outputs": [],
   "source": [
    "#drop the /\n",
    "df['zip'] = df['zip'].replace({'/':''}, regex=True)"
   ]
  },
  {
   "cell_type": "code",
   "execution_count": 73,
   "metadata": {},
   "outputs": [],
   "source": [
    "# still formatting the zip\n",
    "df['zip'] = [z[0:5] for z in df['zip']]     "
   ]
  },
  {
   "cell_type": "code",
   "execution_count": 75,
   "metadata": {},
   "outputs": [],
   "source": [
    "#drop the first row\n",
    "df = df.iloc[1:]"
   ]
  },
  {
   "cell_type": "code",
   "execution_count": 103,
   "metadata": {},
   "outputs": [],
   "source": [
    "#name the columns\n",
    "df.columns = [col_names]"
   ]
  },
  {
   "cell_type": "code",
   "execution_count": 105,
   "metadata": {},
   "outputs": [],
   "source": [
    "df.to_csv('blah.csv')"
   ]
  },
  {
   "cell_type": "code",
   "execution_count": 2,
   "metadata": {},
   "outputs": [],
   "source": [
    "#combine the previous steps into a function\n",
    "def table_clean(df):\n",
    "    df['zip'] = [x[:-4] for x in df['zip'] if len(df['zip']) >= 10]\n",
    "    df['zip'] = df['zip'].replace({'/':''}, regex=True)\n",
    "    df['zip'] = [z[0:5] for z in df['zip']]     \n",
    "    df = df.iloc[1:]\n",
    "    return df"
   ]
  },
  {
   "cell_type": "code",
   "execution_count": 146,
   "metadata": {},
   "outputs": [],
   "source": [
    "#STEP 1 - get the url and convert it onto a DF\n",
    "url = 'http://www.usa.com/rank/california-state--white-population-percentage--zip-code-rank.htm?yr=1000&dis=50&wist=&plow=&phigh='\n",
    "dfs = pd.read_html(url)\n",
    "df = pd.concat(dfs)"
   ]
  },
  {
   "cell_type": "code",
   "execution_count": 147,
   "metadata": {},
   "outputs": [],
   "source": [
    "#STEP 2 name the columns and drop the rank\n",
    "df.columns = ['rank', 'White Population % in 2000', 'zip']\n",
    "df.drop('rank', axis=1, inplace = True)\n"
   ]
  },
  {
   "cell_type": "code",
   "execution_count": 148,
   "metadata": {},
   "outputs": [],
   "source": [
    "#new table equals cleaned table\n",
    "df =table_clean(df)"
   ]
  },
  {
   "cell_type": "code",
   "execution_count": 149,
   "metadata": {},
   "outputs": [],
   "source": [
    "#write it into a csv\n",
    "df.to_csv('white_pop_2000.csv')"
   ]
  },
  {
   "cell_type": "code",
   "execution_count": null,
   "metadata": {},
   "outputs": [],
   "source": [
    "#ta dam "
   ]
  }
 ],
 "metadata": {
  "kernelspec": {
   "display_name": "PythonData",
   "language": "python",
   "name": "pythondata"
  },
  "language_info": {
   "codemirror_mode": {
    "name": "ipython",
    "version": 3
   },
   "file_extension": ".py",
   "mimetype": "text/x-python",
   "name": "python",
   "nbconvert_exporter": "python",
   "pygments_lexer": "ipython3",
   "version": "3.8.1"
  }
 },
 "nbformat": 4,
 "nbformat_minor": 4
}
